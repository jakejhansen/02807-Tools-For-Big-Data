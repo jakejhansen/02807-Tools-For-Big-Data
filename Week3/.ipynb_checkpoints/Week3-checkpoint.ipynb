{
 "cells": [
  {
   "cell_type": "markdown",
   "metadata": {},
   "source": [
    "# Exercises week 3"
   ]
  },
  {
   "cell_type": "code",
   "execution_count": 1,
   "metadata": {},
   "outputs": [
    {
     "name": "stdout",
     "output_type": "stream",
     "text": [
      "A = \n",
      "[[  1.   2.   3.]\n",
      " [  6.   9.  12.]\n",
      " [  2.   0.   9.]]\n",
      "b = \n",
      "[  4.   7.  10.]\n",
      "x = [-5.09090909  1.18181818  2.24242424]\n",
      "A*x = [  4.   7.  10.] = b\n"
     ]
    }
   ],
   "source": [
    "import numpy as np\n",
    "\n",
    "#Define input\n",
    "inputMatrix = np.genfromtxt('matrix.csv', delimiter = ',')\n",
    "A = inputMatrix[:,:3]\n",
    "b = inputMatrix[:,3]\n",
    "print(\"A = \\n{}\".format(A))\n",
    "print(\"b = \\n{}\".format(b))\n",
    "\n",
    "# Find x, and check that we can reconstruct b with A*x\n",
    "x = np.linalg.solve(A,b)\n",
    "print(\"x = {}\".format(x))\n",
    "print(\"A*x = {} = b\".format(np.dot(A,x)))"
   ]
  },
  {
   "cell_type": "markdown",
   "metadata": {},
   "source": [
    "## Exercise 3.2"
   ]
  },
  {
   "cell_type": "code",
   "execution_count": 2,
   "metadata": {},
   "outputs": [
    {
     "data": {
      "image/png": "[encoded data removed]",
      "text/plain": [
       "<matplotlib.figure.Figure at 0x7f8290fa27f0>"
      ]
     },
     "metadata": {},
     "output_type": "display_data"
    },
    {
     "name": "stdout",
     "output_type": "stream",
     "text": [
      "[ 2.99999264  1.00106185 -2.00736185  3.91800201]\n"
     ]
    }
   ],
   "source": [
    "import numpy as np\n",
    "import matplotlib.pyplot as plt\n",
    "\n",
    "data = np.genfromtxt('xy.csv', delimiter = ' ')\n",
    "x = data[:,0]\n",
    "y = data[:, 1]\n",
    "\n",
    "z = np.polyfit(x,y,3)\n",
    "p = np.poly1d(z)\n",
    "xp = np.linspace(min(x),max(x), 100)\n",
    "plt.plot(x, y, '.', xp, p(xp), '-')\n",
    "plt.show()\n",
    "print(z)"
   ]
  },
  {
   "cell_type": "markdown",
   "metadata": {},
   "source": [
    "## Exercise 3.3"
   ]
  },
  {
   "cell_type": "code",
   "execution_count": 3,
   "metadata": {},
   "outputs": [
    {
     "name": "stdout",
     "output_type": "stream",
     "text": [
      "1 loop, best of 3: 1.08 s per loop\n"
     ]
    }
   ],
   "source": [
    "def fun_slow():\n",
    "    for _ in range(500):\n",
    "        result = 0\n",
    "        for i in range(1,10000+1):\n",
    "            result += 1/(i**2)\n",
    "            \n",
    "\n",
    "\n",
    "%timeit fun_slow()"
   ]
  },
  {
   "cell_type": "code",
   "execution_count": 4,
   "metadata": {},
   "outputs": [
    {
     "name": "stdout",
     "output_type": "stream",
     "text": [
      "100000 loops, best of 3: 13.6 µs per loop\n"
     ]
    }
   ],
   "source": [
    "import fun_fast\n",
    "\n",
    "%timeit fun_fast.fun_fast()\n",
    "\n",
    "fun_fast.fun_fast()"
   ]
  },
  {
   "cell_type": "code",
   "execution_count": null,
   "metadata": {
    "collapsed": true
   },
   "outputs": [],
   "source": []
  }
 ],
 "metadata": {
  "kernelspec": {
   "display_name": "Python 3",
   "language": "python",
   "name": "python3"
  },
  "language_info": {
   "codemirror_mode": {
    "name": "ipython",
    "version": 3
   },
   "file_extension": ".py",
   "mimetype": "text/x-python",
   "name": "python",
   "nbconvert_exporter": "python",
   "pygments_lexer": "ipython3",
   "version": "3.5.2"
  }
 },
 "nbformat": 4,
 "nbformat_minor": 2
}
