{
 "cells": [
  {
   "cell_type": "markdown",
   "metadata": {},
   "source": [
    "# Week 7: MapReduce"
   ]
  },
  {
   "cell_type": "markdown",
   "metadata": {},
   "source": [
    "## Exercise 1: WordCount"
   ]
  },
  {
   "cell_type": "code",
   "execution_count": 86,
   "metadata": {
    "scrolled": true
   },
   "outputs": [
    {
     "name": "stdout",
     "output_type": "stream",
     "text": [
      "Overwriting wordCount.py\n"
     ]
    }
   ],
   "source": [
    "%%file wordCount.py\n",
    "\n",
    "from mrjob.job import MRJob\n",
    "import re\n",
    "\n",
    "#use regular expression to extract words\n",
    "WORD_RE = re.compile(r\"[\\w']+\")\n",
    "\n",
    "class MRWordCount(MRJob):\n",
    "    \n",
    "    def mapper(self, key, line):\n",
    "        #take all the words in the streamed lines\n",
    "        for word in WORD_RE.findall(line):\n",
    "            yield word.lower(), 1\n",
    "        \n",
    "    def reducer(self, key, values):\n",
    "        #Sum up all the keys and their values\n",
    "        yield key, sum(values)\n",
    "        \n",
    "if __name__ == '__main__':\n",
    "     MRWordCount.run()"
   ]
  },
  {
   "cell_type": "code",
   "execution_count": 28,
   "metadata": {},
   "outputs": [
    {
     "name": "stdout",
     "output_type": "stream",
     "text": [
      "Overwriting wordCountPeergrade.py\n"
     ]
    }
   ],
   "source": [
    "%%file wordCountPeergrade.py\n",
    "from mrjob.job import MRJob\n",
    "\n",
    "class MRWordFrequencyCount(MRJob):\n",
    "\n",
    "    def mapper(self, _, line):\n",
    "        # Split the lines into words.\n",
    "        for word in line.split():\n",
    "            # yield each word in the line\n",
    "            yield word, 1\n",
    "\n",
    "    def reducer(self, key, values):\n",
    "        # optimization: sum the words we've seen so far\n",
    "        yield key, sum(values)\n",
    "\n",
    "if __name__ == '__main__':\n",
    "    MRWordFrequencyCount.run()"
   ]
  },
  {
   "cell_type": "markdown",
   "metadata": {},
   "source": [
    "ex1test.txt: \n",
    "```\n",
    "Hello I'm a testfile\n",
    "Hello I'm a testfile\n",
    "TestFile\n",
    "hey\n",
    "computational tools\n",
    "for for\n",
    "big data!\n",
    "mapreduce mapreduce2 mapreduce2\n",
    "```"
   ]
  },
  {
   "cell_type": "code",
   "execution_count": 29,
   "metadata": {},
   "outputs": [
    {
     "name": "stdout",
     "output_type": "stream",
     "text": [
      "\"Hello\"\t2\r\n",
      "\"I'm\"\t2\r\n",
      "\"TestFile\"\t1\r\n",
      "\"a\"\t2\r\n",
      "\"big\"\t1\r\n",
      "\"computational\"\t1\r\n",
      "\"data!\"\t1\r\n",
      "\"for\"\t2\r\n",
      "\"hey\"\t1\r\n",
      "\"mapreduce\"\t1\r\n",
      "\"mapreduce2\"\t2\r\n",
      "\"testfile\"\t2\r\n",
      "\"tools\"\t1\r\n"
     ]
    }
   ],
   "source": [
    "!python3 wordCountPeergrade.py ex1test.txt -q"
   ]
  },
  {
   "cell_type": "markdown",
   "metadata": {},
   "source": [
    "## Exercise 2: Euler Graphs"
   ]
  },
  {
   "cell_type": "code",
   "execution_count": 14,
   "metadata": {},
   "outputs": [
    {
     "name": "stdout",
     "output_type": "stream",
     "text": [
      "Overwriting eulerTest.py\n"
     ]
    }
   ],
   "source": [
    "%%file eulerTest.py\n",
    "\n",
    "from mrjob.job import MRJob\n",
    "from mrjob.step import MRStep\n",
    "\n",
    "\n",
    "class MREulerTest(MRJob):\n",
    "    \n",
    "    def steps(self):\n",
    "        return [\n",
    "            MRStep(mapper=self.mapper,\n",
    "                   reducer=self.reducer_vertex_degree),\n",
    "            MRStep(reducer=self.reducer_result)\n",
    "        ]\n",
    "    \n",
    "    def mapper(self, key, line):\n",
    "        #extract and yield the verticies for each line in the file\n",
    "        yield line.split()[0], 1   #vertex 1\n",
    "        yield line.split()[1], 1   #vertex 2\n",
    "        \n",
    "    def reducer_vertex_degree(self, key, values):\n",
    "        #Find the degree of all the verticies, and send them all to the same reducer using None as main key\n",
    "        yield None, (key, sum(values))\n",
    "        \n",
    "    def reducer_result(self, _, degrees):\n",
    "        #determine if the graf has an euler tour or not\n",
    "        for i, degree in enumerate(degrees):\n",
    "            #if graph contains a vertex with odd degree, stop\n",
    "            if degree[1] % 2 == 1:\n",
    "                print(\"Graph does not contain an euler tour\")\n",
    "                return\n",
    "        \n",
    "        #if no odd degrees detected, print:\n",
    "        print(\"Graph contains an euler tour\")\n",
    "        \n",
    "        \n",
    "if __name__ == '__main__':\n",
    "     MREulerTest.run()"
   ]
  },
  {
   "cell_type": "code",
   "execution_count": 89,
   "metadata": {},
   "outputs": [
    {
     "name": "stdout",
     "output_type": "stream",
     "text": [
      "Graph contains an euler tour\n",
      "Graph does not contain an euler tour\n",
      "Graph contains an euler tour\n",
      "Graph contains an euler tour\n",
      "Graph does not contain an euler tour\n"
     ]
    }
   ],
   "source": [
    "!python3 eulerTest.py graph1.txt -q\n",
    "!python3 eulerTest.py graph2.txt -q\n",
    "!python3 eulerTest.py graph3.txt -q\n",
    "!python3 eulerTest.py graph4.txt -q\n",
    "!python3 eulerTest.py graph5.txt -q"
   ]
  },
  {
   "cell_type": "markdown",
   "metadata": {},
   "source": [
    "## Exercise3 - Make your own"
   ]
  },
  {
   "cell_type": "markdown",
   "metadata": {},
   "source": [
    "### Students:\n",
    "```\n",
    "{ \"studentID\" : \"s112233\", \"name\" : \"Flemming\", \"gender\" : \"M\", \"GPA\" : 4.7}\n",
    "{ \"studentID\" : \"s445522\", \"name\" : \"Emma\", \"gender\" : \"F\", \"GPA\" : 11}\n",
    "{ \"studentID\" : \"s783943\", \"name\" : \"Ann\", \"gender\" : \"F\", \"GPA\" : 7.8}\n",
    "{ \"studentID\" : \"s645323\", \"name\" : \"Carl\", \"gender\" : \"M\", \"GPA\" : 6}\n",
    "```"
   ]
  },
  {
   "cell_type": "code",
   "execution_count": 90,
   "metadata": {},
   "outputs": [
    {
     "name": "stdout",
     "output_type": "stream",
     "text": [
      "Overwriting student.py\n"
     ]
    }
   ],
   "source": [
    "%%file student.py\n",
    "from mrjob.job import MRJob\n",
    "from mrjob.protocol import JSONValueProtocol\n",
    "import numpy as np\n",
    "\n",
    "class MRStudent(MRJob):\n",
    "    \n",
    "    INPUT_PROTOCOL = JSONValueProtocol\n",
    "    def mapper(self, _, student):\n",
    "        #yields the gender and the GPA of each student\n",
    "        yield student[\"gender\"], student[\"GPA\"]\n",
    "        \n",
    "    def reducer(self, gender, GPA):\n",
    "        #yields the gender and the mean grade of the gender\n",
    "        yield gender, np.mean(list(GPA))\n",
    "        \n",
    "if __name__ == '__main__':\n",
    "     MRStudent.run()"
   ]
  },
  {
   "cell_type": "code",
   "execution_count": 91,
   "metadata": {},
   "outputs": [
    {
     "name": "stdout",
     "output_type": "stream",
     "text": [
      "\"F\"\t9.4\r\n",
      "\"M\"\t5.35\r\n"
     ]
    }
   ],
   "source": [
    "!python3 student.py student*.json -q"
   ]
  }
 ],
 "metadata": {
  "kernelspec": {
   "display_name": "Python 3",
   "language": "python",
   "name": "python3"
  },
  "language_info": {
   "codemirror_mode": {
    "name": "ipython",
    "version": 3
   },
   "file_extension": ".py",
   "mimetype": "text/x-python",
   "name": "python",
   "nbconvert_exporter": "python",
   "pygments_lexer": "ipython3",
   "version": "3.5.2"
  }
 },
 "nbformat": 4,
 "nbformat_minor": 2
}
