{
 "cells": [
  {
   "cell_type": "markdown",
   "metadata": {},
   "source": [
    "# Project 2"
   ]
  },
  {
   "cell_type": "markdown",
   "metadata": {},
   "source": [
    "## Problem 1: Largest vocabulary"
   ]
  },
  {
   "cell_type": "code",
   "execution_count": 28,
   "metadata": {
    "collapsed": true
   },
   "outputs": [],
   "source": [
    "def bodyToWords(body, words):\n",
    "    #Davids script that takes a body of text and returns all the words in it\n",
    "    symbols = ['\\n','`','~','!','@','#','$','%','^','&','*','(',')','_','-','+','=','{','[',']','}','|','\\\\',':',';','\"',\"'\",'<','>','.','?','/',',']\n",
    "    body = body.lower()\n",
    "    for sym in symbols:\n",
    "        body = body.replace(sym, \" \")\n",
    "\n",
    "    for w in body.split(\" \"):\n",
    "        if len(w.replace(\" \",\"\")) > 0:\n",
    "            words.add(w)\n",
    "        \n",
    "    return words"
   ]
  },
  {
   "cell_type": "code",
   "execution_count": 29,
   "metadata": {
    "collapsed": true
   },
   "outputs": [],
   "source": [
    "import sqlite3\n",
    "import time\n",
    "from collections import defaultdict\n",
    "\n",
    "start = time.time()\n",
    "conn = sqlite3.connect('reddit.db')\n",
    "\n",
    "query = \"\"\"\n",
    "SELECT id, name FROM subreddits \n",
    "\"\"\"\n",
    "cursor = conn.execute(query)\n",
    "\n",
    "subreddit_ids = [] #list of subreddits\n",
    "names_d = defaultdict() #dictionary for the names\n",
    "for row in cursor:\n",
    "    subreddit_ids.append(row[0])\n",
    "    names_d[row[0]] = row[1]\n"
   ]
  },
  {
   "cell_type": "code",
   "execution_count": 30,
   "metadata": {},
   "outputs": [
    {
     "name": "stdout",
     "output_type": "stream",
     "text": [
      "Progress:  1.0 %  || time:  58.9852933883667\n",
      "Progress:  2.0 %  || time:  101.72908020019531\n",
      "Progress:  3.0 %  || time:  143.9580202102661\n",
      "Progress:  4.0 %  || time:  189.1487271785736\n",
      "Progress:  5.0 %  || time:  241.1974356174469\n",
      "Progress:  6.0 %  || time:  283.0138051509857\n",
      "Progress:  7.0 %  || time:  293.82612776756287\n",
      "Progress:  8.0 %  || time:  306.2511954307556\n",
      "Progress:  9.0 %  || time:  319.692467212677\n",
      "Progress:  10.0 %  || time:  333.804726600647\n",
      "Progress:  11.0 %  || time:  348.0483675003052\n",
      "Progress:  12.0 %  || time:  360.9429371356964\n",
      "Progress:  13.0 %  || time:  371.4326207637787\n",
      "Progress:  14.0 %  || time:  382.98935079574585\n",
      "Progress:  15.0 %  || time:  412.95157051086426\n",
      "Progress:  16.0 %  || time:  463.4246413707733\n",
      "Progress:  17.0 %  || time:  513.1036760807037\n",
      "Progress:  18.0 %  || time:  548.1823351383209\n",
      "Progress:  19.0 %  || time:  598.9762740135193\n",
      "Progress:  20.0 %  || time:  647.2271158695221\n",
      "Progress:  21.0 %  || time:  690.6842901706696\n",
      "Progress:  22.0 %  || time:  754.12140583992\n",
      "Progress:  23.0 %  || time:  819.612795829773\n",
      "Progress:  24.0 %  || time:  873.5154848098755\n",
      "Progress:  25.0 %  || time:  922.8557512760162\n",
      "Progress:  26.0 %  || time:  971.7951078414917\n",
      "Progress:  27.0 %  || time:  1018.828953742981\n",
      "Progress:  28.0 %  || time:  1071.92560338974\n",
      "Progress:  29.0 %  || time:  1116.9690155982971\n",
      "Progress:  30.0 %  || time:  1158.450565814972\n",
      "Progress:  31.0 %  || time:  1200.9922182559967\n",
      "Progress:  32.0 %  || time:  1251.2803733348846\n",
      "Progress:  33.0 %  || time:  1306.261412858963\n",
      "Progress:  34.0 %  || time:  1358.818651676178\n",
      "Progress:  35.0 %  || time:  1411.0825843811035\n",
      "Progress:  36.0 %  || time:  1447.0570504665375\n",
      "Progress:  37.0 %  || time:  1474.6541492938995\n",
      "Progress:  38.0 %  || time:  1511.9950907230377\n",
      "Progress:  39.0 %  || time:  1562.3837003707886\n",
      "Progress:  40.0 %  || time:  1610.4444427490234\n",
      "Progress:  41.0 %  || time:  1649.0047652721405\n",
      "Progress:  42.0 %  || time:  1699.0881657600403\n",
      "Progress:  43.0 %  || time:  1743.2282807826996\n",
      "Progress:  44.0 %  || time:  1789.5853271484375\n",
      "Progress:  45.0 %  || time:  1839.2658064365387\n",
      "Progress:  46.0 %  || time:  1888.8528814315796\n",
      "Progress:  47.0 %  || time:  1938.232875585556\n",
      "Progress:  48.0 %  || time:  1991.0721671581268\n",
      "Progress:  49.0 %  || time:  2041.321165561676\n",
      "Progress:  50.0 %  || time:  2092.2470014095306\n",
      "Progress:  51.0 %  || time:  2140.0481922626495\n",
      "Progress:  52.0 %  || time:  2192.7036781311035\n",
      "Progress:  53.0 %  || time:  2242.181606531143\n",
      "Progress:  54.0 %  || time:  2278.447107553482\n",
      "Progress:  55.0 %  || time:  2319.205803155899\n",
      "Progress:  56.0 %  || time:  2365.8060557842255\n",
      "Progress:  57.0 %  || time:  2414.301845550537\n",
      "Progress:  58.0 %  || time:  2466.2619347572327\n",
      "Progress:  59.0 %  || time:  2522.5310962200165\n",
      "Progress:  60.0 %  || time:  2577.5826246738434\n",
      "Progress:  61.0 %  || time:  2630.944928407669\n",
      "Progress:  62.0 %  || time:  2688.1370232105255\n",
      "Progress:  63.0 %  || time:  2746.405492544174\n",
      "Progress:  64.0 %  || time:  2799.1145753860474\n",
      "Progress:  65.0 %  || time:  2851.4111239910126\n",
      "Progress:  66.0 %  || time:  2904.326699733734\n",
      "Progress:  67.0 %  || time:  2960.9075334072113\n",
      "Progress:  68.0 %  || time:  3015.6581902503967\n",
      "Progress:  69.0 %  || time:  3067.488114118576\n",
      "Progress:  70.0 %  || time:  3121.9836189746857\n",
      "Progress:  71.0 %  || time:  3171.94642496109\n",
      "Progress:  72.0 %  || time:  3221.730520248413\n",
      "Progress:  73.0 %  || time:  3279.2765498161316\n",
      "Progress:  74.0 %  || time:  3334.9412870407104\n",
      "Progress:  75.0 %  || time:  3391.739180088043\n",
      "Progress:  76.0 %  || time:  3446.5274534225464\n",
      "Progress:  77.0 %  || time:  3500.879955291748\n",
      "Progress:  78.0 %  || time:  3550.3609731197357\n",
      "Progress:  79.0 %  || time:  3601.5144789218903\n",
      "Progress:  80.0 %  || time:  3654.9597311019897\n",
      "Progress:  81.0 %  || time:  3704.3100411891937\n",
      "Progress:  82.0 %  || time:  3756.24978017807\n",
      "Progress:  83.0 %  || time:  3812.2189729213715\n",
      "Progress:  84.0 %  || time:  3866.6382780075073\n",
      "Progress:  85.0 %  || time:  3923.22762966156\n",
      "Progress:  86.0 %  || time:  3974.1128833293915\n",
      "Progress:  87.0 %  || time:  4023.7287151813507\n",
      "Progress:  88.0 %  || time:  4075.7193071842194\n",
      "Progress:  89.0 %  || time:  4127.943824052811\n",
      "Progress:  90.0 %  || time:  4178.792999744415\n",
      "Progress:  91.0 %  || time:  4230.298300981522\n",
      "Progress:  92.0 %  || time:  4282.443131446838\n",
      "Progress:  93.0 %  || time:  4331.01922249794\n",
      "Progress:  94.0 %  || time:  4375.819089889526\n",
      "Progress:  95.0 %  || time:  4423.106908559799\n",
      "Progress:  96.0 %  || time:  4475.319327831268\n",
      "Progress:  97.0 %  || time:  4530.018924474716\n",
      "Progress:  98.0 %  || time:  4584.821633338928\n",
      "Progress:  99.0 %  || time:  4640.531379461288\n",
      "Progress:  100.0 %  || time:  4699.431094408035\n",
      "Progress:  101.0 %  || time:  4753.400159597397\n",
      "Time 4786.689048528671\n"
     ]
    }
   ],
   "source": [
    "from collections import defaultdict\n",
    "\n",
    "vocabulary_size = defaultdict(int)\n",
    "\n",
    "query = \"\"\"\n",
    "SELECT subreddit_id, body FROM comments order by subreddit_id\n",
    "\"\"\"\n",
    "cursor = conn.execute(query)\n",
    "subred_prev = 't5_1a8ah' #starting point\n",
    "\n",
    "words = set()\n",
    "i = 0\n",
    "for row in cursor:\n",
    "    if row[0] != subred_prev: #new subreddit\n",
    "        vocabulary_size[subred_prev] += len(words) #add voc size to dict\n",
    "        words = set()\n",
    "        subred_prev = row[0]\n",
    "        pass\n",
    "    \n",
    "    bodyToWords(row[1], words)\n",
    "    \n",
    "    i += 1\n",
    "    if i % 530000 == 0:\n",
    "        print(\"Progress: \", i/530000, \"%  || time: \", time.time()-start)\n",
    "    \n",
    "print(\"Time\", time.time()-start)"
   ]
  },
  {
   "cell_type": "code",
   "execution_count": 35,
   "metadata": {},
   "outputs": [
    {
     "name": "stdout",
     "output_type": "stream",
     "text": [
      "Time: 79.88343771298727 min\n",
      "Size:   id:       Name:\n",
      "556635  t5_2qh1i  AskReddit\n",
      "221424  t5_2qh33  funny\n",
      "206683  t5_2qh0u  pics\n",
      "193694  t5_2qh13  worldnews\n",
      "189606  t5_2qqjc  todayilearned\n",
      "188477  t5_30uy0  subredditreports\n",
      "187362  t5_2qh1e  videos\n",
      "162499  t5_2rfxx  leagueoflegends\n",
      "153071  t5_2sgp1  pcmasterrace\n",
      "138567  t5_2s7tt  AdviceAnimals\n"
     ]
    }
   ],
   "source": [
    "t = sorted(vocabulary_size, key=vocabulary_size.get, reverse = True) #sort based on size\n",
    "print(\"Time: {} min\".format((time.time()-start)/60))\n",
    "print(\"Size:   id:       Name:\") \n",
    "for x in range(10):\n",
    "    print(\"{}  {}  {}\".format(vocabulary_size[t[x]], t[x], names_d[t[x]]))"
   ]
  },
  {
   "cell_type": "markdown",
   "metadata": {
    "collapsed": true
   },
   "source": [
    "## Problem2 - Common Authors"
   ]
  },
  {
   "cell_type": "code",
   "execution_count": 4,
   "metadata": {},
   "outputs": [
    {
     "name": "stdout",
     "output_type": "stream",
     "text": [
      "Progress:  10.0 %  || time:  11.524073362350464\n",
      "Progress:  20.0 %  || time:  21.711987018585205\n",
      "Progress:  30.0 %  || time:  32.71777844429016\n",
      "Progress:  40.0 %  || time:  42.691789388656616\n",
      "Progress:  50.0 %  || time:  53.838582038879395\n",
      "Progress:  60.0 %  || time:  64.88743472099304\n",
      "Progress:  70.0 %  || time:  75.38233470916748\n",
      "Progress:  80.0 %  || time:  83.55943512916565\n",
      "Progress:  90.0 %  || time:  94.45672512054443\n",
      "Progress:  100.0 %  || time:  105.41400051116943\n"
     ]
    }
   ],
   "source": [
    "import sqlite3\n",
    "from collections import defaultdict\n",
    "import time\n",
    "import numpy as np\n",
    "import itertools\n",
    "\n",
    "start = time.time()\n",
    "\n",
    "conn = sqlite3.connect('reddit.db')\n",
    "\n",
    "#Get the names of the subreddits\n",
    "query = \"\"\"\n",
    "SELECT id, name FROM subreddits \n",
    "\"\"\"\n",
    "cursor = conn.execute(query)\n",
    "\n",
    "names_d = defaultdict() #dictionary for the names\n",
    "for row in cursor:\n",
    "    names_d[row[0]] = row[1]\n",
    "    \n",
    "#Get all the authors in each subreddit\n",
    "query = \"\"\"\n",
    "SELECT author_id, subreddit_id FROM comments\n",
    "\"\"\"\n",
    "cursor = conn.execute(query)\n",
    "\n",
    "sub_red = defaultdict(set) #dictionary with keys equal to the subreddit\n",
    "i = 0\n",
    "for row in cursor:\n",
    "    sub_red[row[1]].add(row[0])\n",
    "    \n",
    "    i += 1\n",
    "    if i % 5300000 == 0:\n",
    "        print(\"Progress: \", i/530000, \"%  || time: \", time.time()-start)"
   ]
  },
  {
   "cell_type": "code",
   "execution_count": 5,
   "metadata": {},
   "outputs": [
    {
     "name": "stdout",
     "output_type": "stream",
     "text": [
      "Time: 106.80804014205933 sec\n",
      "Authors:   id:       Name:\n",
      "606162  t5_2qh1i  AskReddit\n",
      "257850  t5_2qh33  funny\n",
      "240593  t5_2qh0u  pics\n",
      "163552  t5_2qqjc  todayilearned\n",
      "160839  t5_2qh1e  videos\n",
      "139989  t5_2s7tt  AdviceAnimals\n",
      "121509  t5_2qh61  WTF\n",
      "115488  t5_2qh03  gaming\n",
      "112716  t5_2qh13  worldnews\n",
      "106813  t5_2rfxx  leagueoflegends\n"
     ]
    }
   ],
   "source": [
    "t2 = sorted(sub_red, key=lambda k: len(sub_red[k]), reverse = True) #sort based on length\n",
    "print(\"Time: {} sec\".format(time.time()-start))\n",
    "print(\"Authors:   id:       Name:\") \n",
    "for x in range(10):\n",
    "    print(\"{}  {}  {}\".format(len(sub_red[t2[x]]), t2[x], names_d[t2[x]]))"
   ]
  },
  {
   "cell_type": "code",
   "execution_count": 6,
   "metadata": {
    "collapsed": true
   },
   "outputs": [],
   "source": [
    "combinations = list(itertools.combinations(t2[:15],2)) #find all 2-combinations of 15 biggest subreddits\n",
    "\n",
    "pairs = [] #differnt possible pairs\n",
    "for comb in combinations:\n",
    "    #Intersect set of authors to find how many is in common\n",
    "    pairs.append(len(sub_red[comb[0]].intersection(sub_red[comb[1]])))"
   ]
  },
  {
   "cell_type": "code",
   "execution_count": 7,
   "metadata": {},
   "outputs": [
    {
     "name": "stdout",
     "output_type": "stream",
     "text": [
      "Final Time: 107.97922873497009 sec\n",
      "Pairs    Frequency\n",
      "141788   AskReddit-funny\n",
      "138672   AskReddit-pics\n",
      "105138   AskReddit-todayilearned\n",
      "104903   funny-pics\n",
      "91975   AskReddit-videos\n",
      "84457   AskReddit-AdviceAnimals\n",
      "71664   funny-todayilearned\n",
      "71557   pics-todayilearned\n",
      "71247   AskReddit-WTF\n",
      "67090   pics-videos\n"
     ]
    }
   ],
   "source": [
    "index = np.array(pairs).argsort()[-10:][::-1]\n",
    "\n",
    "print(\"Final Time: {} sec\".format(time.time()-start))\n",
    "print(\"Pairs    Frequency\")\n",
    "for x in index:\n",
    "    print(\"{}   {}-{}\".format(pairs[x], names_d[combinations[x][0]], names_d[combinations[x][1]]))"
   ]
  },
  {
   "cell_type": "code",
   "execution_count": 10,
   "metadata": {},
   "outputs": [
    {
     "data": {
      "image/png": "[encoded data removed]",
      "text/plain": [
       "<matplotlib.figure.Figure at 0x7f5f37cc8080>"
      ]
     },
     "metadata": {},
     "output_type": "display_data"
    }
   ],
   "source": [
    "import matplotlib.pyplot as plt\n",
    "plt.plot(pairs)\n",
    "plt.xlabel('Pairs of top 15 subreddits')\n",
    "plt.ylabel('# Common Authors')\n",
    "plt.title(\"Combination of top 15 subreddits and the number of their common authors\")\n",
    "plt.show()"
   ]
  },
  {
   "cell_type": "code",
   "execution_count": 3,
   "metadata": {},
   "outputs": [
    {
     "name": "stdout",
     "output_type": "stream",
     "text": [
      "Overwriting problem2.py\n"
     ]
    }
   ],
   "source": [
    "%%file problem2.py\n",
    "import sqlite3\n",
    "from collections import defaultdict\n",
    "import numpy as np\n",
    "import itertools\n",
    "import time\n",
    "\n",
    "conn = sqlite3.connect('reddit.db')\n",
    "\n",
    "start = time.time()\n",
    "\n",
    "#Get the names of the subreddits\n",
    "query = \"\"\"\n",
    "SELECT id, name FROM subreddits \n",
    "\"\"\"\n",
    "cursor = conn.execute(query)\n",
    "\n",
    "names_d = defaultdict() #dictionary for the names\n",
    "for row in cursor:\n",
    "    names_d[row[0]] = row[1]\n",
    "\n",
    "query = \"\"\"\n",
    "SELECT author_id, subreddit_id FROM comments\n",
    "\"\"\"\n",
    "cursor = conn.execute(query)\n",
    "\n",
    "sub_red = defaultdict(set)\n",
    "i = 0\n",
    "for row in cursor:\n",
    "    sub_red[row[1]].add(row[0])\n",
    "        \n",
    "t2 = sorted(sub_red, key=lambda k: len(sub_red[k]), reverse = True) #sort based on length\n",
    "combinations = list(itertools.combinations(t2[:15],2)) #find all 2-combinations of 15 biggest subreddits\n",
    "\n",
    "pairs = [] #differnt possible pairs\n",
    "for comb in combinations:\n",
    "    #Intersect set of authors to find how many is in common\n",
    "    pairs.append(len(sub_red[comb[0]].intersection(sub_red[comb[1]])))\n",
    "    \n",
    "    \n",
    "index = np.array(pairs).argsort()[-10:][::-1]\n",
    "    \n",
    "conn.close()"
   ]
  },
  {
   "cell_type": "code",
   "execution_count": 122,
   "metadata": {},
   "outputs": [
    {
     "name": "stdout",
     "output_type": "stream",
     "text": [
      "1 loop, best of 3: 1min 14s per loop\n"
     ]
    }
   ],
   "source": [
    "%%timeit -n1 -r3\n",
    "!python3 problem2.py"
   ]
  },
  {
   "cell_type": "markdown",
   "metadata": {},
   "source": [
    "## Problem 3: Deepest average comment threads"
   ]
  },
  {
   "cell_type": "code",
   "execution_count": 129,
   "metadata": {},
   "outputs": [
    {
     "data": {
      "text/plain": [
       "defaultdict(int, {5: 3})"
      ]
     },
     "execution_count": 129,
     "metadata": {},
     "output_type": "execute_result"
    }
   ],
   "source": [
    "dic = defaultdict(int)\n",
    "indi = [(0,4), (1, 3), (2, 5), (3, 4), (4, 5)]\n",
    "\n",
    "for idd, parent in indi:\n",
    "    dic[parent] = max(dic[parent], dic[idd] + 1)\n",
    "    dic.pop(idd)\n",
    "dic"
   ]
  },
  {
   "cell_type": "code",
   "execution_count": 1,
   "metadata": {},
   "outputs": [
    {
     "name": "stdout",
     "output_type": "stream",
     "text": [
      "Progress:  10.0 %  || time:  52.50123739242554\n",
      "Progress:  20.0 %  || time:  101.23077654838562\n",
      "Progress:  30.0 %  || time:  149.33912348747253\n",
      "Progress:  40.0 %  || time:  198.4982192516327\n",
      "Progress:  50.0 %  || time:  249.3455855846405\n",
      "Progress:  60.0 %  || time:  299.86569261550903\n",
      "Progress:  70.0 %  || time:  349.9477376937866\n",
      "Progress:  80.0 %  || time:  400.11259937286377\n",
      "Progress:  90.0 %  || time:  449.65470242500305\n",
      "Progress:  100.0 %  || time:  498.20840406417847\n",
      "Time 506.17652225494385\n"
     ]
    }
   ],
   "source": [
    "import sqlite3\n",
    "from collections import defaultdict\n",
    "import numpy as np\n",
    "import itertools\n",
    "import time\n",
    "\n",
    "conn = sqlite3.connect('reddit.db')\n",
    "\n",
    "start = time.time()\n",
    "\n",
    "conn.row_factory = sqlite3.Row\n",
    "\n",
    "query = \"\"\"\n",
    "SELECT id, name FROM subreddits \n",
    "\"\"\"\n",
    "cursor = conn.execute(query)\n",
    "\n",
    "names_d = defaultdict() #dictionary for the names\n",
    "subreddit_ids = [] #list of subreddits\n",
    "for row in cursor:\n",
    "    subreddit_ids.append(row[0])\n",
    "    names_d[row[0]] = row[1]\n",
    "    \n",
    "query = \"\"\"\n",
    "SELECT id, parent_id, subreddit_id FROM comments ORDER BY id DESC\n",
    "\"\"\"\n",
    "\n",
    "cursor = conn.execute(query)\n",
    "\n",
    "#Construct dictionary placeholder\n",
    "sub_red = defaultdict(dict)\n",
    "for sub in subreddit_ids:\n",
    "    sub_red[sub] = defaultdict(int)\n",
    "\n",
    "i = 0\n",
    "start = time.time()\n",
    "cursor = conn.execute(query)\n",
    "for row in cursor:\n",
    "    #id = max(id, subcomment + 1)\n",
    "    sub_red[row[2]][row[1]] = max(sub_red[row[2]][row[1]], sub_red[row[2]][row[0]] + 1)\n",
    "    sub_red[row[2]].pop(row[0])\n",
    "    \n",
    "    i += 1\n",
    "    if i % 5300000 == 0:\n",
    "        print(\"Progress: \", i/530000, \"%  || time: \", time.time()-start)\n",
    "\n",
    "print(\"Time\", time.time()-start)\n"
   ]
  },
  {
   "cell_type": "code",
   "execution_count": 2,
   "metadata": {},
   "outputs": [
    {
     "name": "stdout",
     "output_type": "stream",
     "text": [
      "Final Time: 508.0327637195587 sec\n",
      "Avg Depth     id           name\n",
      "381.9         t5_2u9jq     counting\n",
      "343.9         t5_2zlk4     EroticRolePlay\n",
      "339.2         t5_33wg4     SburbRP\n",
      "149.5         t5_366p4     TheTwoCenturions\n",
      "112.0         t5_2x15g     ExploreFiction\n",
      "95.0         t5_3272o     RidersOfBerk\n",
      "90.2         t5_323vp     GalacticGuardians\n",
      "89.4         t5_33lo3     YamakuHighSchool\n",
      "88.6         t5_2z5u0     randomsuperpowers\n",
      "83.0         t5_31ryx     ksrp\n"
     ]
    }
   ],
   "source": [
    "avg_depth = []\n",
    "for i in range(len(subreddit_ids)):\n",
    "    res = []\n",
    "    for k, v in sub_red[subreddit_ids[i]].items():\n",
    "        if k[:2] == \"t3\":\n",
    "            res.append(v-1)\n",
    "    if len(res) > 0:\n",
    "        avg_depth.append(np.mean(res))\n",
    "    else:\n",
    "        avg_depth.append(0)\n",
    "        \n",
    "        \n",
    "index = np.array(avg_depth).argsort()[-10:][::-1]\n",
    "\n",
    "print(\"Final Time: {} sec\".format(time.time()-start))\n",
    "print(\"Avg Depth     id           name\")\n",
    "for x in index:\n",
    "    print(\"{:.1f}         {}     {}\".format(avg_depth[x], subreddit_ids[x], names_d[subreddit_ids[x]]))\n",
    "    "
   ]
  },
  {
   "cell_type": "code",
   "execution_count": null,
   "metadata": {
    "collapsed": true
   },
   "outputs": [],
   "source": []
  }
 ],
 "metadata": {
  "kernelspec": {
   "display_name": "Python 3",
   "language": "python",
   "name": "python3"
  },
  "language_info": {
   "codemirror_mode": {
    "name": "ipython",
    "version": 3
   },
   "file_extension": ".py",
   "mimetype": "text/x-python",
   "name": "python",
   "nbconvert_exporter": "python",
   "pygments_lexer": "ipython3",
   "version": "3.5.2"
  }
 },
 "nbformat": 4,
 "nbformat_minor": 2
}
