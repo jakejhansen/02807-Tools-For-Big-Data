{
 "cells": [
  {
   "cell_type": "markdown",
   "metadata": {},
   "source": [
    "# Week 10: Feature Hashing and LSH"
   ]
  },
  {
   "cell_type": "code",
   "execution_count": 1,
   "metadata": {},
   "outputs": [
    {
     "name": "stdout",
     "output_type": "stream",
     "text": [
      "Number of articles: 10377\n"
     ]
    }
   ],
   "source": [
    "import json, glob\n",
    "\n",
    "cleaned_data = []\n",
    "\n",
    "#Load every datafile\n",
    "for file in glob.glob('full/*'):\n",
    "    data = json.load(open(file))\n",
    "    \n",
    "    for elem in data:\n",
    "        #Check if the article has both an topic and body-element\n",
    "        if 'topics' in list(elem.keys()) and 'body' in list(elem.keys()):\n",
    "            cleaned_data.append(elem)\n",
    "            \n",
    "print(\"Number of articles:\", len(cleaned_data))"
   ]
  },
  {
   "cell_type": "code",
   "execution_count": 2,
   "metadata": {},
   "outputs": [
    {
     "name": "stdout",
     "output_type": "stream",
     "text": [
      "Number of unique words: 70793\n"
     ]
    }
   ],
   "source": [
    "#Construct dictionary over unique words in all articles\n",
    "dictionary = set()\n",
    "for article in cleaned_data:\n",
    "    for word in article['body'].lower().split():\n",
    "        dictionary.add(word)\n",
    "print(\"Number of unique words:\", len(dictionary))"
   ]
  },
  {
   "cell_type": "code",
   "execution_count": 3,
   "metadata": {
    "collapsed": true
   },
   "outputs": [],
   "source": [
    "# Make it into a dictioniary, with each word having an index as value\n",
    "from collections import defaultdict\n",
    "features = defaultdict(int)\n",
    "for i, word in enumerate(dictionary):\n",
    "    features[word] = i"
   ]
  },
  {
   "cell_type": "code",
   "execution_count": 4,
   "metadata": {},
   "outputs": [
    {
     "name": "stdout",
     "output_type": "stream",
     "text": [
      "articles, features\n",
      "(10377, 70793)\n"
     ]
    }
   ],
   "source": [
    "import numpy as np\n",
    "bag_of_words = np.zeros((len(cleaned_data), len(features)))\n",
    "\n",
    "#Consturct bag-of-words for all articles by looking up the ID of all the words\n",
    "for i, article in enumerate(cleaned_data):\n",
    "    for word in article['body'].lower().split():\n",
    "        bag_of_words[i][features[word]] += 1\n",
    "\n",
    "print(\"articles, features\")        \n",
    "print(bag_of_words.shape)"
   ]
  },
  {
   "cell_type": "code",
   "execution_count": 6,
   "metadata": {},
   "outputs": [
    {
     "data": {
      "text/plain": [
       "RandomForestClassifier(bootstrap=True, class_weight=None, criterion='gini',\n",
       "            max_depth=None, max_features='auto', max_leaf_nodes=None,\n",
       "            min_impurity_split=1e-07, min_samples_leaf=1,\n",
       "            min_samples_split=2, min_weight_fraction_leaf=0.0,\n",
       "            n_estimators=50, n_jobs=1, oob_score=False, random_state=None,\n",
       "            verbose=0, warm_start=False)"
      ]
     },
     "execution_count": 6,
     "metadata": {},
     "output_type": "execute_result"
    }
   ],
   "source": [
    "from sklearn.ensemble import RandomForestClassifier\n",
    "from sklearn.model_selection import train_test_split\n",
    "\n",
    "#Prepare data\n",
    "y = np.zeros(len(cleaned_data))\n",
    "for i, article in enumerate(cleaned_data):\n",
    "    if 'earn' in article['topics']:\n",
    "        y[i] = 1\n",
    "        \n",
    "X = bag_of_words\n",
    "\n",
    "#Split data into test and validation\n",
    "X_train, X_test, y_train, y_test = train_test_split(X, y, test_size=0.2, random_state=42)\n",
    "\n",
    "#Construct RFC\n",
    "clf = RandomForestClassifier(n_estimators = 50)\n",
    "clf.fit(X_train, y_train)"
   ]
  },
  {
   "cell_type": "code",
   "execution_count": 7,
   "metadata": {},
   "outputs": [
    {
     "name": "stdout",
     "output_type": "stream",
     "text": [
      "Accuracy on train-set = 1.0\n",
      "Accuracy on test-set = 0.946531791908\n"
     ]
    }
   ],
   "source": [
    "#Test performance\n",
    "print(\"Accuracy on train-set =\", clf.score(X_train, y_train))\n",
    "print(\"Accuracy on test-set =\", clf.score(X_test, y_test))"
   ]
  },
  {
   "cell_type": "markdown",
   "metadata": {
    "collapsed": true
   },
   "source": [
    "### Feature Hashing"
   ]
  },
  {
   "cell_type": "code",
   "execution_count": 8,
   "metadata": {},
   "outputs": [
    {
     "name": "stdout",
     "output_type": "stream",
     "text": [
      "articles, features\n",
      "(10377, 1000)\n"
     ]
    }
   ],
   "source": [
    "num_bins = 1000\n",
    "hashed = np.zeros((len(cleaned_data), num_bins))\n",
    "\n",
    "for i, article in enumerate(cleaned_data):\n",
    "    for word in article['body'].lower().split():\n",
    "        #Just hash the features \n",
    "        hashed[i][features[word] % num_bins] += 1\n",
    "\n",
    "print(\"articles, features\")        \n",
    "print(hashed.shape)"
   ]
  },
  {
   "cell_type": "code",
   "execution_count": 9,
   "metadata": {},
   "outputs": [
    {
     "data": {
      "text/plain": [
       "RandomForestClassifier(bootstrap=True, class_weight=None, criterion='gini',\n",
       "            max_depth=None, max_features='auto', max_leaf_nodes=None,\n",
       "            min_impurity_split=1e-07, min_samples_leaf=1,\n",
       "            min_samples_split=2, min_weight_fraction_leaf=0.0,\n",
       "            n_estimators=50, n_jobs=1, oob_score=False, random_state=None,\n",
       "            verbose=0, warm_start=False)"
      ]
     },
     "execution_count": 9,
     "metadata": {},
     "output_type": "execute_result"
    }
   ],
   "source": [
    "X = hashed\n",
    "\n",
    "\n",
    "#Split data into test and validation\n",
    "X_train, X_test, y_train, y_test = train_test_split(X, y, test_size=0.2, random_state=42)\n",
    "\n",
    "#Construct RFC\n",
    "clf = RandomForestClassifier(n_estimators = 50)\n",
    "clf.fit(X_train, y_train)"
   ]
  },
  {
   "cell_type": "code",
   "execution_count": 10,
   "metadata": {},
   "outputs": [
    {
     "name": "stdout",
     "output_type": "stream",
     "text": [
      "Accuracy on train-set =  1.0\n",
      "Accuracy on test-set =  0.948458574181\n"
     ]
    }
   ],
   "source": [
    "#Test performance\n",
    "print(\"Accuracy on train-set = \", clf.score(X_train, y_train))\n",
    "print(\"Accuracy on test-set = \", clf.score(X_test, y_test))"
   ]
  },
  {
   "cell_type": "markdown",
   "metadata": {},
   "source": [
    "## Exercise 10.2 LSH"
   ]
  },
  {
   "cell_type": "code",
   "execution_count": 5,
   "metadata": {},
   "outputs": [
    {
     "name": "stdout",
     "output_type": "stream",
     "text": [
      "[[255 255 255 255 255 255 255 255 255]\n",
      " [255 255 255  92 180  89 255 255 255]\n",
      " [255 255 140  89 180 180 111 255 255]\n",
      " [255  93 180 180 180 180 180 255 255]\n",
      " [255  89  89  89 180 180 180  89 255]\n",
      " [255 132  89  89 180 180 180 255 255]\n",
      " [255 181  89  89  89  90 176 179 255]\n",
      " [255 255 255 255 255 255 255 255 255]]\n"
     ]
    },
    {
     "data": {
      "text/plain": [
       "array([[False, False, False, False, False, False, False, False],\n",
       "       [False, False,  True, False,  True, False, False, False],\n",
       "       [False,  True,  True, False, False,  True, False, False],\n",
       "       [ True, False, False, False, False, False, False, False],\n",
       "       [ True, False, False, False, False, False,  True, False],\n",
       "       [ True,  True, False, False, False, False, False, False],\n",
       "       [ True,  True, False, False, False, False, False, False],\n",
       "       [False, False, False, False, False, False, False, False]], dtype=bool)"
      ]
     },
     "execution_count": 5,
     "metadata": {},
     "output_type": "execute_result"
    }
   ],
   "source": [
    "from PIL import Image\n",
    "#Open image and make it gray-scale\n",
    "im = Image.open(\"img\").convert('L')\n",
    "\n",
    "#Resize image\n",
    "img = np.array(im.resize((9,8)))\n"
   ]
  },
  {
   "cell_type": "code",
   "execution_count": 6,
   "metadata": {
    "collapsed": true
   },
   "outputs": [],
   "source": [
    "images = sorted(glob.glob('*.jpeg'))"
   ]
  },
  {
   "cell_type": "code",
   "execution_count": 10,
   "metadata": {
    "scrolled": true
   },
   "outputs": [
    {
     "name": "stdout",
     "output_type": "stream",
     "text": [
      "banana.jpeg: 0000212139331e07\n",
      "banana2.jpeg: 808141312123260c\n",
      "orange1.jpeg: 000e2d0d4f0f060e\n",
      "orange2.jpeg: 0613160747070e0c\n"
     ]
    }
   ],
   "source": [
    "features_all = []\n",
    "width = 9\n",
    "height = 8\n",
    "\n",
    "# For every image in the folder\n",
    "for image in sorted(glob.glob('*.jpeg')):\n",
    "    #Open and resize\n",
    "    im = Image.open(image).convert('L')\n",
    "\n",
    "    img = np.array(im.resize((width,height)))\n",
    "\n",
    "    #Do differencing\n",
    "    diff = img[:, :-1] > img[:,1:]\n",
    "\n",
    "    features = []\n",
    "    print(image, end = ': ')\n",
    "    \n",
    "    #Use Davids script from Aula\n",
    "    for difference in diff:\n",
    "        decimal_value = 0\n",
    "        hex_string = []\n",
    "        for index, value in enumerate(difference):\n",
    "            #If True, fill the position\n",
    "            if value:\n",
    "                decimal_value += 2**(index % (width - 1))\n",
    "            #If reached the end, append it to the string and add it to features\n",
    "            if (index % (width-1)) == (width-2):\n",
    "                hex_string.append(hex(decimal_value)[2:].rjust(2, '0'))\n",
    "                features.append(decimal_value)\n",
    "                decimal_value = 0\n",
    "        print(''.join(hex_string), end='')\n",
    "    print()\n",
    "    \n",
    "    features_all.append(features)"
   ]
  },
  {
   "cell_type": "code",
   "execution_count": 11,
   "metadata": {},
   "outputs": [
    {
     "data": {
      "text/html": [
       "<div>\n",
       "<style>\n",
       "    .dataframe thead tr:only-child th {\n",
       "        text-align: right;\n",
       "    }\n",
       "\n",
       "    .dataframe thead th {\n",
       "        text-align: left;\n",
       "    }\n",
       "\n",
       "    .dataframe tbody tr th {\n",
       "        vertical-align: top;\n",
       "    }\n",
       "</style>\n",
       "<table border=\"1\" class=\"dataframe\">\n",
       "  <thead>\n",
       "    <tr style=\"text-align: right;\">\n",
       "      <th></th>\n",
       "      <th>banana.jpeg</th>\n",
       "      <th>banana2.jpeg</th>\n",
       "      <th>orange1.jpeg</th>\n",
       "      <th>orange2.jpeg</th>\n",
       "    </tr>\n",
       "  </thead>\n",
       "  <tbody>\n",
       "    <tr>\n",
       "      <th>banana.jpeg</th>\n",
       "      <td>1.000000</td>\n",
       "      <td>0.437564</td>\n",
       "      <td>0.825922</td>\n",
       "      <td>0.776200</td>\n",
       "    </tr>\n",
       "    <tr>\n",
       "      <th>banana2.jpeg</th>\n",
       "      <td>0.437564</td>\n",
       "      <td>1.000000</td>\n",
       "      <td>0.447148</td>\n",
       "      <td>0.496058</td>\n",
       "    </tr>\n",
       "    <tr>\n",
       "      <th>orange1.jpeg</th>\n",
       "      <td>0.825922</td>\n",
       "      <td>0.447148</td>\n",
       "      <td>1.000000</td>\n",
       "      <td>0.961906</td>\n",
       "    </tr>\n",
       "    <tr>\n",
       "      <th>orange2.jpeg</th>\n",
       "      <td>0.776200</td>\n",
       "      <td>0.496058</td>\n",
       "      <td>0.961906</td>\n",
       "      <td>1.000000</td>\n",
       "    </tr>\n",
       "  </tbody>\n",
       "</table>\n",
       "</div>"
      ],
      "text/plain": [
       "              banana.jpeg  banana2.jpeg  orange1.jpeg  orange2.jpeg\n",
       "banana.jpeg      1.000000      0.437564      0.825922      0.776200\n",
       "banana2.jpeg     0.437564      1.000000      0.447148      0.496058\n",
       "orange1.jpeg     0.825922      0.447148      1.000000      0.961906\n",
       "orange2.jpeg     0.776200      0.496058      0.961906      1.000000"
      ]
     },
     "execution_count": 11,
     "metadata": {},
     "output_type": "execute_result"
    }
   ],
   "source": [
    "from pprint import pprint\n",
    "from sklearn.metrics.pairwise import * \n",
    "import pandas as pd\n",
    "\n",
    "#Compute Cosine Similarity\n",
    "similarities = cosine_similarity(features_all)\n",
    "images = sorted(glob.glob('*.jpeg'))\n",
    "\n",
    "df = pd.DataFrame(similarities, index=images, columns= images)\n",
    "df"
   ]
  },
  {
   "cell_type": "code",
   "execution_count": 15,
   "metadata": {},
   "outputs": [
    {
     "data": {
      "text/html": [
       "<div>\n",
       "<style>\n",
       "    .dataframe thead tr:only-child th {\n",
       "        text-align: right;\n",
       "    }\n",
       "\n",
       "    .dataframe thead th {\n",
       "        text-align: left;\n",
       "    }\n",
       "\n",
       "    .dataframe tbody tr th {\n",
       "        vertical-align: top;\n",
       "    }\n",
       "</style>\n",
       "<table border=\"1\" class=\"dataframe\">\n",
       "  <thead>\n",
       "    <tr style=\"text-align: right;\">\n",
       "      <th></th>\n",
       "      <th>banana.jpeg</th>\n",
       "      <th>banana2.jpeg</th>\n",
       "      <th>orange1.jpeg</th>\n",
       "      <th>orange2.jpeg</th>\n",
       "    </tr>\n",
       "  </thead>\n",
       "  <tbody>\n",
       "    <tr>\n",
       "      <th>banana.jpeg</th>\n",
       "      <td>1.000000</td>\n",
       "      <td>0.874059</td>\n",
       "      <td>0.517271</td>\n",
       "      <td>0.494726</td>\n",
       "    </tr>\n",
       "    <tr>\n",
       "      <th>banana2.jpeg</th>\n",
       "      <td>0.874059</td>\n",
       "      <td>1.000000</td>\n",
       "      <td>0.518566</td>\n",
       "      <td>0.457681</td>\n",
       "    </tr>\n",
       "    <tr>\n",
       "      <th>orange1.jpeg</th>\n",
       "      <td>0.517271</td>\n",
       "      <td>0.518566</td>\n",
       "      <td>1.000000</td>\n",
       "      <td>0.901867</td>\n",
       "    </tr>\n",
       "    <tr>\n",
       "      <th>orange2.jpeg</th>\n",
       "      <td>0.494726</td>\n",
       "      <td>0.457681</td>\n",
       "      <td>0.901867</td>\n",
       "      <td>1.000000</td>\n",
       "    </tr>\n",
       "  </tbody>\n",
       "</table>\n",
       "</div>"
      ],
      "text/plain": [
       "              banana.jpeg  banana2.jpeg  orange1.jpeg  orange2.jpeg\n",
       "banana.jpeg      1.000000      0.874059      0.517271      0.494726\n",
       "banana2.jpeg     0.874059      1.000000      0.518566      0.457681\n",
       "orange1.jpeg     0.517271      0.518566      1.000000      0.901867\n",
       "orange2.jpeg     0.494726      0.457681      0.901867      1.000000"
      ]
     },
     "execution_count": 15,
     "metadata": {},
     "output_type": "execute_result"
    }
   ],
   "source": [
    "features_all = []\n",
    "#Increase number of bins for better precision.\n",
    "width = 25\n",
    "height = 24\n",
    "\n",
    "# For every image in the folder\n",
    "for image in sorted(glob.glob('*.jpeg')):\n",
    "    #Open and resize\n",
    "    im = Image.open(image).convert('L')\n",
    "\n",
    "    img = np.array(im.resize((width,height)))\n",
    "\n",
    "    #Do differencing\n",
    "    diff = img[:, :-1] > img[:,1:]\n",
    "\n",
    "    features = []\n",
    "    \n",
    "    #Use Davids script from Aula\n",
    "    for difference in diff:\n",
    "        decimal_value = 0\n",
    "        hex_string = []\n",
    "        for index, value in enumerate(difference):\n",
    "            #If True, fill the position\n",
    "            if value:\n",
    "                decimal_value += 2**(index % (width - 1))\n",
    "            #If reached the end, append it to the string and add it to features\n",
    "            if (index % (width-1)) == (width-2):\n",
    "                hex_string.append(hex(decimal_value)[2:].rjust(2, '0'))\n",
    "                features.append(decimal_value)\n",
    "                decimal_value = 0\n",
    "    \n",
    "    features_all.append(features)\n",
    "    \n",
    "\n",
    "similarities = cosine_similarity(features_all)\n",
    "names = sorted(glob.glob('*.jpeg'))\n",
    "\n",
    "df = pd.DataFrame(similarities, index=images, columns= images)\n",
    "df"
   ]
  },
  {
   "cell_type": "code",
   "execution_count": null,
   "metadata": {
    "collapsed": true
   },
   "outputs": [],
   "source": []
  }
 ],
 "metadata": {
  "kernelspec": {
   "display_name": "Python 3",
   "language": "python",
   "name": "python3"
  },
  "language_info": {
   "codemirror_mode": {
    "name": "ipython",
    "version": 3
   },
   "file_extension": ".py",
   "mimetype": "text/x-python",
   "name": "python",
   "nbconvert_exporter": "python",
   "pygments_lexer": "ipython3",
   "version": "3.5.2"
  }
 },
 "nbformat": 4,
 "nbformat_minor": 2
}
