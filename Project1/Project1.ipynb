{
 "cells": [
  {
   "cell_type": "markdown",
   "metadata": {},
   "source": [
    "# Cat queries"
   ]
  },
  {
   "cell_type": "code",
   "execution_count": 1,
   "metadata": {
    "collapsed": true
   },
   "outputs": [],
   "source": [
    "import regex as re\n",
    "with open('cat', 'r') as f:\n",
    "    cat = f.read()"
   ]
  },
  {
   "cell_type": "code",
   "execution_count": 2,
   "metadata": {
    "collapsed": true,
    "scrolled": false
   },
   "outputs": [],
   "source": [
    "def get_matches_starting_at(data, pattern, index, starting_index, resulting_matches):\n",
    "\n",
    "    P = pattern[0]\n",
    "    #Removed sub_data field\n",
    "    if data[index:index+len(P)] == P:\n",
    "        if len(pattern) == 1:\n",
    "            resulting_matches.append((starting_index,index+len(P)))\n",
    "        else:\n",
    "            for new_index in range(pattern[1][0]+1, pattern[1][1]+2):\n",
    "                get_matches_starting_at(data, pattern[2:], index+len(P)+new_index-1, starting_index, resulting_matches)\n",
    "\n",
    "        return resulting_matches\n",
    "    else:\n",
    "        return []\n",
    "\n",
    "def get_all_matches(data, pattern):\n",
    "    matches_found = []\n",
    "    #Remade index to only start at places where the first string is\n",
    "    for index in [m.start() for m in re.finditer(pattern[0], data)]:\n",
    "        matches_at_index = get_matches_starting_at(data, pattern, index, index, [])\n",
    "        matches_found += matches_at_index\n",
    "\n",
    "    return set(matches_found)"
   ]
  },
  {
   "cell_type": "code",
   "execution_count": 3,
   "metadata": {
    "collapsed": true,
    "scrolled": true
   },
   "outputs": [],
   "source": [
    "def david_finder(data,pattern):\n",
    "    matches = get_all_matches(data, pattern)\n",
    "    total_matches = []\n",
    "    for m in matches:\n",
    "            total_matches.append(data[m[0]:m[1]])\n",
    "    \n",
    "    return(total_matches)\n",
    "    \n",
    "matches = david_finder(cat, ['cat', (0, 10), 'are', (0, 10), 'to'])\n",
    "assert(len(matches) == 10)"
   ]
  },
  {
   "cell_type": "code",
   "execution_count": 5,
   "metadata": {
    "scrolled": false
   },
   "outputs": [
    {
     "name": "stdout",
     "output_type": "stream",
     "text": [
      "10\n",
      "100 loops, best of 3: 6.94 ms per loop\n"
     ]
    }
   ],
   "source": [
    "pattern = ['cat', (0, 10), 'are', (0, 10), 'to']\n",
    "matches = david_finder(cat, pattern)\n",
    "print(len(matches))\n",
    "%timeit david_finder(cat, pattern)"
   ]
  },
  {
   "cell_type": "code",
   "execution_count": 6,
   "metadata": {
    "scrolled": false
   },
   "outputs": [
    {
     "name": "stdout",
     "output_type": "stream",
     "text": [
      "11\n",
      "10 loops, best of 3: 47.1 ms per loop\n"
     ]
    }
   ],
   "source": [
    "pattern = ['cat', (0, 100), 'anatomy']\n",
    "matches = david_finder(cat, pattern)\n",
    "print(len(matches))\n",
    "%timeit david_finder(cat, pattern)"
   ]
  },
  {
   "cell_type": "code",
   "execution_count": 798,
   "metadata": {
    "scrolled": false
   },
   "outputs": [
    {
     "name": "stdout",
     "output_type": "stream",
     "text": [
      "1\n",
      "1000 loops, best of 3: 400 µs per loop\n"
     ]
    }
   ],
   "source": [
    "pattern = ['china', (30, 150), 'washington']\n",
    "matches = david_finder(cat, pattern)\n",
    "print(len(matches))\n",
    "%timeit david_finder(cat, pattern)"
   ]
  },
  {
   "cell_type": "code",
   "execution_count": 799,
   "metadata": {
    "scrolled": false
   },
   "outputs": [
    {
     "name": "stdout",
     "output_type": "stream",
     "text": [
      "34\n",
      "100 loops, best of 3: 2.28 ms per loop\n"
     ]
    }
   ],
   "source": [
    "pattern = ['english', (0, 200), 'cat']\n",
    "matches = david_finder(cat, pattern)\n",
    "print(len(matches))\n",
    "%timeit david_finder(cat, pattern)"
   ]
  },
  {
   "cell_type": "code",
   "execution_count": 800,
   "metadata": {},
   "outputs": [
    {
     "name": "stdout",
     "output_type": "stream",
     "text": [
      "2\n",
      "1000 loops, best of 3: 1.65 ms per loop\n"
     ]
    }
   ],
   "source": [
    "pattern = ['kitten', (15, 85), 'cat', (0, 100), 'sire', (0, 200), 'oxford']\n",
    "matches = david_finder(cat, pattern)\n",
    "print(len(matches))\n",
    "%timeit david_finder(cat, pattern)"
   ]
  },
  {
   "cell_type": "markdown",
   "metadata": {},
   "source": [
    "# Wikipedia title Aa"
   ]
  },
  {
   "cell_type": "code",
   "execution_count": 4,
   "metadata": {
    "collapsed": true
   },
   "outputs": [],
   "source": [
    "import glob, multiprocessing\n",
    "\n",
    "def process(line, pattern):\n",
    "    # Function that processes the text of an article\n",
    "    matches = david_finder(line, pattern)\n",
    "    return(matches)\n",
    "\n",
    "def worker(file, pattern):\n",
    "    # Opens a wikipedia file process it line by line,\n",
    "    # returning all matches found\n",
    "    total_matches = []\n",
    "    with open(file, 'r') as f:\n",
    "        for line in f:\n",
    "            # Scan to check, that all the string are present in the text.\n",
    "            # If they are, run modified david script\n",
    "            if all(c in line for c in pattern[::2]):\n",
    "                matches = process(line, pattern)\n",
    "                if len(matches) > 0:\n",
    "                    for match in matches:\n",
    "                        total_matches.append(match)\n",
    "                    \n",
    "    return(total_matches)\n",
    "\n",
    "\n",
    "def fast(pattern, path):\n",
    "    \n",
    "    pool = multiprocessing.Pool(4)\n",
    "    results = []\n",
    "\n",
    "    for ifile in glob.glob(path): #all wikipedia files\n",
    "        res = pool.apply_async(worker,[ifile, pattern])\n",
    "        results.append([ifile,res])\n",
    "\n",
    "    #wait for jobs to complete\n",
    "    pool.close()\n",
    "    pool.join()\n",
    "\n",
    "    #Combine the result of all files into one list of matches\n",
    "    matches = []\n",
    "    for result in results:\n",
    "        matches += result[1].get()\n",
    "    return(matches)"
   ]
  },
  {
   "cell_type": "code",
   "execution_count": 5,
   "metadata": {
    "scrolled": false
   },
   "outputs": [
    {
     "name": "stdout",
     "output_type": "stream",
     "text": [
      "14\n",
      "2 loops, best of 2: 2.42 s per loop\n"
     ]
    }
   ],
   "source": [
    "pattern = ['arnold', (0, 10), 'schwarzenegger', (0, 10), 'is']\n",
    "matches = fast(pattern, \"Anwiki_p*\")\n",
    "print(len(matches))\n",
    "%timeit -n2 -r2 fast(pattern, \"Anwiki_p*\")"
   ]
  },
  {
   "cell_type": "code",
   "execution_count": 21,
   "metadata": {
    "scrolled": false
   },
   "outputs": [
    {
     "name": "stdout",
     "output_type": "stream",
     "text": [
      "1441\n",
      "2 loops, best of 2: 2.62 s per loop\n"
     ]
    }
   ],
   "source": [
    "pattern = ['apache', (0, 100), 'software']\n",
    "matches = fast(pattern, \"Anwiki_p*\")\n",
    "print(len(matches))\n",
    "%timeit -n2 -r2 fast(pattern, \"Anwiki_p*\")"
   ]
  },
  {
   "cell_type": "code",
   "execution_count": 22,
   "metadata": {
    "scrolled": false
   },
   "outputs": [
    {
     "name": "stdout",
     "output_type": "stream",
     "text": [
      "510\n",
      "2 loops, best of 2: 2.67 s per loop\n"
     ]
    }
   ],
   "source": [
    "pattern = ['aarhus', (30, 150), 'denmark']\n",
    "matches = fast(pattern, \"Anwiki_p*\")\n",
    "print(len(matches))\n",
    "%timeit -n2 -r2 fast(pattern, \"Anwiki_p*\")"
   ]
  },
  {
   "cell_type": "code",
   "execution_count": 769,
   "metadata": {
    "scrolled": true
   },
   "outputs": [
    {
     "name": "stdout",
     "output_type": "stream",
     "text": [
      "181\n",
      "2 loops, best of 2: 3.56 s per loop\n"
     ]
    }
   ],
   "source": [
    "pattern = ['english', (0, 100), 'alphabet']\n",
    "matches = fast(pattern, \"Anwiki_p*\")\n",
    "print(len(matches))\n",
    "%timeit -n2 -r2 fast(pattern, \"Anwiki_p*\")"
   ]
  },
  {
   "cell_type": "code",
   "execution_count": 770,
   "metadata": {},
   "outputs": [
    {
     "name": "stdout",
     "output_type": "stream",
     "text": [
      "2\n",
      "2 loops, best of 2: 3.61 s per loop\n"
     ]
    }
   ],
   "source": [
    "pattern = ['first', (0, 85), 'letter', (0, 100), 'alphabet', (0, 200), 'consonant']\n",
    "matches = fast(pattern, \"Anwiki_p*\")\n",
    "print(len(matches))\n",
    "%timeit -n2 -r2 fast(pattern, \"Anwiki_p*\")"
   ]
  },
  {
   "cell_type": "markdown",
   "metadata": {},
   "source": [
    "# Entire English Wikipedia"
   ]
  },
  {
   "cell_type": "code",
   "execution_count": 6,
   "metadata": {},
   "outputs": [
    {
     "name": "stdout",
     "output_type": "stream",
     "text": [
      "1 loop, best of 1: 28.1 s per loop\n"
     ]
    }
   ],
   "source": [
    "pattern = ['elephants', (0, 20), 'are', (0, 20), 'to']\n",
    "matches = fast(pattern, \"enwiki_p*\")\n",
    "print(len(matches))\n",
    "%timeit -n1 -r1 fast(pattern, \"enwiki_p*\")"
   ]
  },
  {
   "cell_type": "code",
   "execution_count": 24,
   "metadata": {},
   "outputs": [
    {
     "name": "stdout",
     "output_type": "stream",
     "text": [
      "616\n",
      "1 loop, best of 2: 31.7 s per loop\n"
     ]
    }
   ],
   "source": [
    "pattern = ['technical', (0, 20), 'university', (0, 20), 'denmark']\n",
    "matches = fast(pattern, \"enwiki_p*\")\n",
    "print(len(matches))\n",
    "%timeit -n1 -r2 fast(pattern, \"enwiki_p*\")"
   ]
  },
  {
   "cell_type": "code",
   "execution_count": 26,
   "metadata": {},
   "outputs": [
    {
     "name": "stdout",
     "output_type": "stream",
     "text": [
      "0\n",
      "1 loop, best of 2: 33.2 s per loop\n"
     ]
    }
   ],
   "source": [
    "pattern = ['testing', (0, 20), 'with', (0, 20), 'a', (0, 30), 'lot', (0, 4), 'of', (0, 5), 'words']\n",
    "matches = fast(pattern, \"enwiki_p*\")\n",
    "print(len(matches))\n",
    "%timeit -n1 -r2 fast(pattern, \"enwiki_p*\")"
   ]
  },
  {
   "cell_type": "code",
   "execution_count": 12,
   "metadata": {},
   "outputs": [
    {
     "name": "stdout",
     "output_type": "stream",
     "text": [
      "7499\n",
      "1 loop, best of 2: 32.7 s per loop\n"
     ]
    }
   ],
   "source": [
    "pattern = ['stress', (0, 250), 'test']\n",
    "matches = fast(pattern, \"enwiki_p*\")\n",
    "print(len(matches))\n",
    "%timeit -n1 -r2 fast(pattern, \"enwiki_p*\")"
   ]
  },
  {
   "cell_type": "code",
   "execution_count": 27,
   "metadata": {},
   "outputs": [
    {
     "name": "stdout",
     "output_type": "stream",
     "text": [
      "1\n",
      "1 loop, best of 2: 32.5 s per loop\n"
     ]
    }
   ],
   "source": [
    "pattern = ['object', (10, 200), 'application', (0, 100), 'python', (10, 200), 'system', (0, 100), 'computer', (0, 10), 'science', (0, 150), 'linux', (0, 200), 'ruby']\n",
    "matches = fast(pattern, \"enwiki_p*\")\n",
    "print(len(matches))\n",
    "%timeit -n1 -r2 fast(pattern, \"enwiki_p*\")"
   ]
  },
  {
   "cell_type": "code",
   "execution_count": null,
   "metadata": {
    "collapsed": true
   },
   "outputs": [],
   "source": []
  }
 ],
 "metadata": {
  "kernelspec": {
   "display_name": "Python 3",
   "language": "python",
   "name": "python3"
  },
  "language_info": {
   "codemirror_mode": {
    "name": "ipython",
    "version": 3
   },
   "file_extension": ".py",
   "mimetype": "text/x-python",
   "name": "python",
   "nbconvert_exporter": "python",
   "pygments_lexer": "ipython3",
   "version": "3.5.2"
  }
 },
 "nbformat": 4,
 "nbformat_minor": 2
}
